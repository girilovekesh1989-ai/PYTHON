{
  "nbformat": 4,
  "nbformat_minor": 0,
  "metadata": {
    "colab": {
      "provenance": []
    },
    "kernelspec": {
      "name": "python3",
      "display_name": "Python 3"
    },
    "language_info": {
      "name": "python"
    }
  },
  "cells": [
    {
      "cell_type": "markdown",
      "source": [
        "**PYTHON Basics**\n",
        "\n",
        "**Assignment**"
      ],
      "metadata": {
        "id": "zbWmDmKqPJ65"
      }
    },
    {
      "cell_type": "markdown",
      "source": [
        "**Python Basics Questions**"
      ],
      "metadata": {
        "id": "ghdr75Lbf3cV"
      }
    },
    {
      "cell_type": "markdown",
      "source": [
        "1. What is Python, and why is it popular ?\n",
        "   - Python was created by Guido Van Rossum, and first released on February 20, 1991. Basically Python is an programming language which includes set of rules & symbols that defines the process of writing computer program.\n",
        "   -   It is popular because it is easy to learn & read. It's a general-purpose language, meaning it can be used for web development, data analysis, machine learning, scripting, automation, and more.It contains a lot of libraries & it have an huge active community.\n",
        "\n",
        "\n",
        "2. What is an interpreter in Python  ?\n",
        "   - In Python, an interpreter is a program that executes Python code directly, line by line, without needing to compile the entire program into machine code first.It reads the source code, analyzes it, and then executes the instructions immediately.\n",
        "   \n",
        "3. What are pre-defined keywords in Python  ?\n",
        "   - Predefined keywords in Python are reserved words that have special meanings amd cannot be used as identifiers (like variable names, function names, or class names). These keywords are fundamental to the syntax and structure of Python programs.\n",
        "   - Here is list of Python keywords:\n",
        "     False, None, True, and, as, assert, async, await, break, class, continue, def, del, elif, else, except, finally, for, from, global, if, import, in, is, lambda,nonlocal,not,or,pass,try,while,with,yield.\n",
        "4. Can keywords be used as variable names?\n",
        "   - No, keywords cannot be used as variable names. Keywords are reserved words  in a programming language that have predefined meanings and are used to define the language's syntax and structure.Using them as variable names would cause syntax errors and ambiguity.\n",
        "          "
      ],
      "metadata": {
        "id": "F6zefWVhPM9w"
      }
    },
    {
      "cell_type": "code",
      "source": [
        "#Example 1:\n",
        "while=10\n",
        "while"
      ],
      "metadata": {
        "colab": {
          "base_uri": "https://localhost:8080/",
          "height": 106
        },
        "id": "ZoVDMX6Wo1bh",
        "outputId": "4b24eccc-8fd9-4a48-84d7-9fa033451124"
      },
      "execution_count": null,
      "outputs": [
        {
          "output_type": "error",
          "ename": "SyntaxError",
          "evalue": "invalid syntax (ipython-input-43-3738281122.py, line 2)",
          "traceback": [
            "\u001b[0;36m  File \u001b[0;32m\"/tmp/ipython-input-43-3738281122.py\"\u001b[0;36m, line \u001b[0;32m2\u001b[0m\n\u001b[0;31m    while=10\u001b[0m\n\u001b[0m         ^\u001b[0m\n\u001b[0;31mSyntaxError\u001b[0m\u001b[0;31m:\u001b[0m invalid syntax\n"
          ]
        }
      ]
    },
    {
      "cell_type": "code",
      "source": [
        "#Example 2:\n",
        "if=\"Aayansh\"\n",
        "if"
      ],
      "metadata": {
        "id": "yhQ_UG2eo0Jo"
      },
      "execution_count": null,
      "outputs": []
    },
    {
      "cell_type": "markdown",
      "source": [
        "5. What is mutability in Python ?\n",
        "   - Object/container whose state or value can be changed after they are created are called as mutability or mutable objects/container.\n",
        "\n",
        "  "
      ],
      "metadata": {
        "id": "SqHsztbTu4yi"
      }
    },
    {
      "cell_type": "code",
      "source": [
        "list_cont=[1,2,3,3.2,2+3j,True, \"Aayansh\"]\n",
        "list_cont"
      ],
      "metadata": {
        "colab": {
          "base_uri": "https://localhost:8080/"
        },
        "id": "YaN9eqUSxSYy",
        "outputId": "74f756af-6a28-4bfc-8397-06551cc9ed2a"
      },
      "execution_count": null,
      "outputs": [
        {
          "output_type": "execute_result",
          "data": {
            "text/plain": [
              "[1, 2, 3, 3.2, (2+3j), True, 'Aayansh']"
            ]
          },
          "metadata": {},
          "execution_count": 44
        }
      ]
    },
    {
      "cell_type": "code",
      "source": [
        "list_cont[1]"
      ],
      "metadata": {
        "colab": {
          "base_uri": "https://localhost:8080/"
        },
        "id": "aJ4kI36LxoIe",
        "outputId": "7b1d8c5f-8f92-4b9a-d778-9b0c2cdc03eb"
      },
      "execution_count": null,
      "outputs": [
        {
          "output_type": "execute_result",
          "data": {
            "text/plain": [
              "2"
            ]
          },
          "metadata": {},
          "execution_count": 45
        }
      ]
    },
    {
      "cell_type": "code",
      "source": [
        "#Mutability:\n",
        "list_cont[1]= \"Vijay\"\n",
        "list_cont"
      ],
      "metadata": {
        "colab": {
          "base_uri": "https://localhost:8080/"
        },
        "id": "vld0ICfTxxXB",
        "outputId": "fda36474-d6f1-4b84-d77e-4a081c948497"
      },
      "execution_count": null,
      "outputs": [
        {
          "output_type": "execute_result",
          "data": {
            "text/plain": [
              "[1, 'Vijay', 3, 3.2, (2+3j), True, 'Aayansh']"
            ]
          },
          "metadata": {},
          "execution_count": 46
        }
      ]
    },
    {
      "cell_type": "markdown",
      "source": [
        "6. Why are lists mutable, but tuples are immutable ?\n",
        "  - Tuples & list are the same in every way except two: tuples use parentheses instead of square brackets, and the items in tuples cannot be modified (but the items in lists can be modified).We often call list mutable and tuples immutable.\n",
        "  - Mutable objects supports item assigments whereas immutable objects doesn't support item assignment.\n",
        "  - List is a type of Mutable Objects and String is a type immutable objetcs or container."
      ],
      "metadata": {
        "id": "oP6D64OWyC_I"
      }
    },
    {
      "cell_type": "code",
      "source": [
        "#eX:\n",
        "listVal  = [1,2,3,4,5,6,7,8]\n",
        "listVal"
      ],
      "metadata": {
        "colab": {
          "base_uri": "https://localhost:8080/"
        },
        "id": "2uzyelQR0PNQ",
        "outputId": "8aa66d18-c578-41e3-9cd0-7420ebc3bc4a"
      },
      "execution_count": null,
      "outputs": [
        {
          "output_type": "execute_result",
          "data": {
            "text/plain": [
              "[1, 2, 3, 4, 5, 6, 7, 8]"
            ]
          },
          "metadata": {},
          "execution_count": 48
        }
      ]
    },
    {
      "cell_type": "code",
      "source": [
        "tupleVal=(1,2,3,4,5,6,7,8)\n",
        "tupleVal"
      ],
      "metadata": {
        "colab": {
          "base_uri": "https://localhost:8080/"
        },
        "id": "sWLDK6YM1irJ",
        "outputId": "27140328-153d-4392-945d-096631877c5f"
      },
      "execution_count": null,
      "outputs": [
        {
          "output_type": "execute_result",
          "data": {
            "text/plain": [
              "(1, 2, 3, 4, 5, 6, 7, 8)"
            ]
          },
          "metadata": {},
          "execution_count": 49
        }
      ]
    },
    {
      "cell_type": "code",
      "source": [
        "listVal[4]='Hello'\n",
        "listVal"
      ],
      "metadata": {
        "colab": {
          "base_uri": "https://localhost:8080/"
        },
        "id": "LpjZeawr1xow",
        "outputId": "922210fb-b974-4966-ed42-9a53810ef257"
      },
      "execution_count": null,
      "outputs": [
        {
          "output_type": "execute_result",
          "data": {
            "text/plain": [
              "[1, 2, 3, 4, 'Hello', 6, 7, 8]"
            ]
          },
          "metadata": {},
          "execution_count": 50
        }
      ]
    },
    {
      "cell_type": "code",
      "source": [
        "tupleVal[4]='Hello'\n",
        "tupleVal"
      ],
      "metadata": {
        "colab": {
          "base_uri": "https://localhost:8080/",
          "height": 158
        },
        "id": "MiYgd-oI17xD",
        "outputId": "70a50ee2-ee1a-41a0-a9ba-a4b935819a93"
      },
      "execution_count": null,
      "outputs": [
        {
          "output_type": "error",
          "ename": "TypeError",
          "evalue": "'tuple' object does not support item assignment",
          "traceback": [
            "\u001b[0;31m---------------------------------------------------------------------------\u001b[0m",
            "\u001b[0;31mTypeError\u001b[0m                                 Traceback (most recent call last)",
            "\u001b[0;32m/tmp/ipython-input-52-3324609737.py\u001b[0m in \u001b[0;36m<cell line: 0>\u001b[0;34m()\u001b[0m\n\u001b[0;32m----> 1\u001b[0;31m \u001b[0mtupleVal\u001b[0m\u001b[0;34m[\u001b[0m\u001b[0;36m4\u001b[0m\u001b[0;34m]\u001b[0m\u001b[0;34m=\u001b[0m\u001b[0;34m'Hello'\u001b[0m\u001b[0;34m\u001b[0m\u001b[0;34m\u001b[0m\u001b[0m\n\u001b[0m\u001b[1;32m      2\u001b[0m \u001b[0mtupleVal\u001b[0m\u001b[0;34m\u001b[0m\u001b[0;34m\u001b[0m\u001b[0m\n",
            "\u001b[0;31mTypeError\u001b[0m: 'tuple' object does not support item assignment"
          ]
        }
      ]
    },
    {
      "cell_type": "markdown",
      "source": [
        "7. What is the difference between “==” and “is” operators in Python ?\n",
        "   - ==(Equality Operator): This opertaor compares the values of two objects. It checks if the content or data held by the objects mis the same. When a==b is evaluated, Python essentially calls the _eq_() method of object a (if defined) to determine if its value is equal to the value of object b.\n",
        "  - is(Identity Operator): This operator compares the identity of two objetcs. It checks if two variables refer to the exact same object in memory. This means it determines if they have the same memory address."
      ],
      "metadata": {
        "id": "fi8ksfHZ3Gsv"
      }
    },
    {
      "cell_type": "code",
      "source": [
        "#Ex (==):\n",
        "list1=[1,2,3]\n",
        "list2=[1,2,3]\n",
        "print(list1==list2)"
      ],
      "metadata": {
        "colab": {
          "base_uri": "https://localhost:8080/"
        },
        "id": "7ywAOFHg17ve",
        "outputId": "38977ba6-02c1-49af-bb52-23bbbedf2c9e"
      },
      "execution_count": null,
      "outputs": [
        {
          "output_type": "stream",
          "name": "stdout",
          "text": [
            "True\n"
          ]
        }
      ]
    },
    {
      "cell_type": "code",
      "source": [
        "#Ex (is)\n",
        "list1=[1,2,3]\n",
        "list2=[1,2,3]\n",
        "print(list1 is list2)"
      ],
      "metadata": {
        "colab": {
          "base_uri": "https://localhost:8080/"
        },
        "id": "XEaejKUX5ZLO",
        "outputId": "c7a07a7b-4cae-4599-fe80-b375f104b01f"
      },
      "execution_count": null,
      "outputs": [
        {
          "output_type": "stream",
          "name": "stdout",
          "text": [
            "False\n"
          ]
        }
      ]
    },
    {
      "cell_type": "code",
      "source": [
        "list3=list1\n",
        "print(list1 is list3)"
      ],
      "metadata": {
        "colab": {
          "base_uri": "https://localhost:8080/"
        },
        "id": "4l3s2ztj573R",
        "outputId": "17a8c0c0-5459-4943-9802-c834353487d3"
      },
      "execution_count": null,
      "outputs": [
        {
          "output_type": "stream",
          "name": "stdout",
          "text": [
            "True\n"
          ]
        }
      ]
    },
    {
      "cell_type": "markdown",
      "source": [
        "8. What are logical operators in Python ?\n",
        "   - Logical operators in Python are used to combine conditional statementsand evaluate expressions based on Boolean logic. They return a Boolean value (True or False) as a result.\n",
        "   - There are three primary logical operators in Python:\n",
        "     and (Logical AND), or (Logical OR) & not (Logical NOT).\n",
        "   - These operators are fundamental for controlling program flow in Python, especially within if, elif, and while statements, allowing for complex decision-making based on multiple conditions."
      ],
      "metadata": {
        "id": "EV-x4txy6lEX"
      }
    },
    {
      "cell_type": "markdown",
      "source": [
        "9. What is type casting in Python ?\n",
        "   - Typecasting/Type conversion: The process of changing the data type of a value or objectis called typecasting. Conversion can be 'String to integer', 'float to integer, 'integer to float', 'string to float' but 'Character' cannot be converted into 'numbers'."
      ],
      "metadata": {
        "id": "T2TM5KI_6lCU"
      }
    },
    {
      "cell_type": "code",
      "source": [
        "#Ex: String to Integer\n",
        "\n",
        "a=\"Aayansh\"\n",
        "b=3\n",
        "a+b"
      ],
      "metadata": {
        "colab": {
          "base_uri": "https://localhost:8080/",
          "height": 176
        },
        "id": "OJ5hWNYN_QQQ",
        "outputId": "e35be9e6-444f-4ac9-ed0e-23f800174b0b"
      },
      "execution_count": null,
      "outputs": [
        {
          "output_type": "error",
          "ename": "TypeError",
          "evalue": "can only concatenate str (not \"int\") to str",
          "traceback": [
            "\u001b[0;31m---------------------------------------------------------------------------\u001b[0m",
            "\u001b[0;31mTypeError\u001b[0m                                 Traceback (most recent call last)",
            "\u001b[0;32m/tmp/ipython-input-59-1829039354.py\u001b[0m in \u001b[0;36m<cell line: 0>\u001b[0;34m()\u001b[0m\n\u001b[1;32m      3\u001b[0m \u001b[0ma\u001b[0m\u001b[0;34m=\u001b[0m\u001b[0;34m\"Aayansh\"\u001b[0m\u001b[0;34m\u001b[0m\u001b[0;34m\u001b[0m\u001b[0m\n\u001b[1;32m      4\u001b[0m \u001b[0mb\u001b[0m\u001b[0;34m=\u001b[0m\u001b[0;36m3\u001b[0m\u001b[0;34m\u001b[0m\u001b[0;34m\u001b[0m\u001b[0m\n\u001b[0;32m----> 5\u001b[0;31m \u001b[0ma\u001b[0m\u001b[0;34m+\u001b[0m\u001b[0mb\u001b[0m\u001b[0;34m\u001b[0m\u001b[0;34m\u001b[0m\u001b[0m\n\u001b[0m",
            "\u001b[0;31mTypeError\u001b[0m: can only concatenate str (not \"int\") to str"
          ]
        }
      ]
    },
    {
      "cell_type": "code",
      "source": [
        "type(a)"
      ],
      "metadata": {
        "colab": {
          "base_uri": "https://localhost:8080/"
        },
        "id": "o0BfIsJH_jwi",
        "outputId": "17d260fd-01df-43a2-8bd9-733b32725c8b"
      },
      "execution_count": null,
      "outputs": [
        {
          "output_type": "execute_result",
          "data": {
            "text/plain": [
              "str"
            ]
          },
          "metadata": {},
          "execution_count": 60
        }
      ]
    },
    {
      "cell_type": "code",
      "source": [
        "a=\"2\"\n",
        "b=3\n",
        "int(a)+b"
      ],
      "metadata": {
        "colab": {
          "base_uri": "https://localhost:8080/"
        },
        "id": "fuQlLH3__n3X",
        "outputId": "1a4a29d1-4147-4ea5-92de-b123c66cbbca"
      },
      "execution_count": null,
      "outputs": [
        {
          "output_type": "execute_result",
          "data": {
            "text/plain": [
              "5"
            ]
          },
          "metadata": {},
          "execution_count": 62
        }
      ]
    },
    {
      "cell_type": "markdown",
      "source": [
        "10. What is the difference between implicit and explicit type casting ?\n",
        "   - Implicit Typecasting is done automaqtically by the compiler when it's safe and doesn't involve potential data loss, while explicit casting requires the programmer to specify the conversion using a cast operator, even if it might involve data loss or require more careful handling."
      ],
      "metadata": {
        "id": "Pv6HYt5rAIvb"
      }
    },
    {
      "cell_type": "markdown",
      "source": [
        "11. What is the purpose of conditional statements in Python?\n",
        "    - The purpose of conditional statements in Python is to control the flow of execution in a program based on whether certain conditions are met. These statements enable decision-making within the code, allowing different blocks of instructions to be executed depending on the evaluation of a condition as true or false.\n",
        "    - Specifically, conditional statements facilitate decision making, conditional execution & handling mutiple scenarios.\n",
        "    - Primary types of conditional statements are if statement, if-else statement & elif statement."
      ],
      "metadata": {
        "id": "Mndsx707CUjL"
      }
    },
    {
      "cell_type": "markdown",
      "source": [
        "12. How does the elif statement work ?\n",
        "    - The \"elif\" keyword in Python, stands for \"else if\". It can be used in conditional statements to check for multiple conditions.\n",
        "    For Example:, if the first condition is false, it moves on to the next \"elif\" statement to check if that condition is true.\n"
      ],
      "metadata": {
        "id": "bgfYkboREmzX"
      }
    },
    {
      "cell_type": "code",
      "source": [
        "x=10\n",
        "if x>20:\n",
        "  print(\"x is bigger than 10\")\n",
        "elif x==20:\n",
        "  print(\"x is equals to 20\")\n",
        "else:\n",
        "  print(\"x is neither bigger than 10 nor equal to 20\")"
      ],
      "metadata": {
        "colab": {
          "base_uri": "https://localhost:8080/"
        },
        "id": "uuHuCY60mBW4",
        "outputId": "dc570014-df72-4d4e-f8d0-cb3b8375f4ac"
      },
      "execution_count": null,
      "outputs": [
        {
          "output_type": "stream",
          "name": "stdout",
          "text": [
            "x is neither bigger than 10 nor equal to 20\n"
          ]
        }
      ]
    },
    {
      "cell_type": "markdown",
      "source": [
        "13. What is the difference between for and while loops ?\n",
        "    - The main difference between **for** and **while** loops lies in their intended use cases: **for** loops are typically used when you know the number of iterations beforehand, while **while** loops are used when the number of iterations is not known in advance and depends on a condition being met.\n",
        "\n",
        "    **FOR Loop:**\n",
        "    * **Known Iterations:** **for** loops are best suited for situations where you need to iterate a specific number of times, such as looping through the elements of an array or performing a task a set number of times.\n",
        "    * **Structure** : A **for** loop typically includes intialization, condition to check, and an increment/decrement part, all within the loop's structure.\n",
        "\n",
        "   **While Loop:**\n",
        "    * **Unknown iterations:** while loops are used when the number of iterations is not predetermined and depends on a condition being true.\n",
        "    * **Condition-Based**: The loop continues to execute as long as the specified condition remains true.\n",
        "\n",
        "\n",
        "\n",
        "\n",
        "\n"
      ],
      "metadata": {
        "id": "oeG5AYKgo4YO"
      }
    },
    {
      "cell_type": "code",
      "source": [
        "#Example of For Loop:\n",
        "\n",
        "for i in range(5):\n",
        "  print(i)"
      ],
      "metadata": {
        "colab": {
          "base_uri": "https://localhost:8080/"
        },
        "id": "8-mSZYEurhlQ",
        "outputId": "83f56e29-669a-41df-d270-23c9fa402f3c"
      },
      "execution_count": null,
      "outputs": [
        {
          "output_type": "stream",
          "name": "stdout",
          "text": [
            "0\n",
            "1\n",
            "2\n",
            "3\n",
            "4\n"
          ]
        }
      ]
    },
    {
      "cell_type": "markdown",
      "source": [],
      "metadata": {
        "id": "yEDJA5ijruYO"
      }
    },
    {
      "cell_type": "code",
      "source": [
        "#Example of While loop:\n",
        "count=0\n",
        "while count<5:\n",
        "  print(count)\n",
        "  count+=1"
      ],
      "metadata": {
        "colab": {
          "base_uri": "https://localhost:8080/"
        },
        "id": "D80cZMo0tOA4",
        "outputId": "e5017a9a-436a-427a-a7bb-f8917e6bd2e4"
      },
      "execution_count": null,
      "outputs": [
        {
          "output_type": "stream",
          "name": "stdout",
          "text": [
            "0\n",
            "1\n",
            "2\n",
            "3\n",
            "4\n"
          ]
        }
      ]
    },
    {
      "cell_type": "markdown",
      "source": [
        "14. Describe a scenario where a while loop is more suitable than a for loop?\n",
        "    - A scenario where a while loop is more suitable than a for loop in Python is when the number of iterations is unknown and depends on a dynamic condition.\n",
        "\n",
        "    Scenario: User Input Validation\n",
        "\n",
        "    Consider a program that repeatedly prompts a user for input until a specific valid input is provided. The program does not know how many attempts the user will need to enter valid data."
      ],
      "metadata": {
        "id": "Wl76hgWbtjtj"
      }
    },
    {
      "cell_type": "code",
      "source": [
        "while True:\n",
        "  try:\n",
        "    user_input=int(input(\"Please enter a positive integer:\"))\n",
        "    if user_input>0:\n",
        "      print(f\"You enetered a valid positive integer:{user_input}\")\n",
        "      break #Exit the loop if input is valid\n",
        "    else:\n",
        "      print(\"Invalid input. The number must be positive.\")\n",
        "  except ValueError:\n",
        "    print(\"Invalid input. Please enter an integer.\")"
      ],
      "metadata": {
        "colab": {
          "base_uri": "https://localhost:8080/"
        },
        "id": "yaERwUxkc3Lv",
        "outputId": "f259d4ea-96c7-4b65-c8dd-325d4dddfe10"
      },
      "execution_count": null,
      "outputs": [
        {
          "output_type": "stream",
          "name": "stdout",
          "text": [
            "Please enter a positive integer:5\n",
            "You enetered a valid positive integer:5\n"
          ]
        }
      ]
    },
    {
      "cell_type": "markdown",
      "source": [
        "**Practical Questions**"
      ],
      "metadata": {
        "id": "olCFJ7PHgOit"
      }
    },
    {
      "cell_type": "markdown",
      "source": [
        "1. Write a Python program to print \"Hello, World!\" ?"
      ],
      "metadata": {
        "id": "NxjrpCydgUv8"
      }
    },
    {
      "cell_type": "code",
      "source": [
        "print(\"Hello, World!\")"
      ],
      "metadata": {
        "colab": {
          "base_uri": "https://localhost:8080/"
        },
        "id": "mG0fvSaagho2",
        "outputId": "0e074c14-d96a-4372-f3ca-036055d1bcfa"
      },
      "execution_count": null,
      "outputs": [
        {
          "output_type": "stream",
          "name": "stdout",
          "text": [
            "Hello, World!\n"
          ]
        }
      ]
    },
    {
      "cell_type": "markdown",
      "source": [
        "2. Write a Python program that displays your name and age ?"
      ],
      "metadata": {
        "id": "Dbmr7wUXhGYF"
      }
    },
    {
      "cell_type": "code",
      "source": [
        "name=\"Lovekesh Giri\"\n",
        "age= 36\n",
        "print(\"My name is Lovekesh Giri and I am 36 years old.\")"
      ],
      "metadata": {
        "colab": {
          "base_uri": "https://localhost:8080/"
        },
        "id": "WWFKlXwphNeH",
        "outputId": "bea5f388-10cd-44c3-b055-ba43b98164c9"
      },
      "execution_count": null,
      "outputs": [
        {
          "output_type": "stream",
          "name": "stdout",
          "text": [
            "My name is Lovekesh Giri and I am 36 years old.\n"
          ]
        }
      ]
    },
    {
      "cell_type": "markdown",
      "source": [
        "3. Write code to print all the pre-defined keywords in Python using the keyword library ?"
      ],
      "metadata": {
        "id": "3q8y_VmVjMCI"
      }
    },
    {
      "cell_type": "code",
      "source": [
        "import keyword\n",
        "# Print all keywpords using keyword.kwlist\n",
        "print(keyword.kwlist)"
      ],
      "metadata": {
        "colab": {
          "base_uri": "https://localhost:8080/"
        },
        "id": "f9CDoq9Uj64v",
        "outputId": "5b0e690a-04d0-43dc-ec07-b5eb03d381d6"
      },
      "execution_count": null,
      "outputs": [
        {
          "output_type": "stream",
          "name": "stdout",
          "text": [
            "['False', 'None', 'True', 'and', 'as', 'assert', 'async', 'await', 'break', 'class', 'continue', 'def', 'del', 'elif', 'else', 'except', 'finally', 'for', 'from', 'global', 'if', 'import', 'in', 'is', 'lambda', 'nonlocal', 'not', 'or', 'pass', 'raise', 'return', 'try', 'while', 'with', 'yield']\n"
          ]
        }
      ]
    },
    {
      "cell_type": "markdown",
      "source": [
        "4. Write a program that checks if a given word is a Python keyword ?"
      ],
      "metadata": {
        "id": "SjH5NDfDkUSR"
      }
    },
    {
      "cell_type": "code",
      "source": [
        "import keyword\n",
        "s=input(\"enter any word\")\n",
        "if keyword.iskeyword(s):\n",
        "  print(\"Your entered word is keyword\")\n",
        "else:\n",
        "  print(\"your entered word is not a keyword in Python\")"
      ],
      "metadata": {
        "colab": {
          "base_uri": "https://localhost:8080/"
        },
        "id": "dBlbD-FTlDTL",
        "outputId": "351dda13-a0cf-4419-9e98-e86f9781732d"
      },
      "execution_count": null,
      "outputs": [
        {
          "output_type": "stream",
          "name": "stdout",
          "text": [
            "enter any wordif\n",
            "Your entered word is keyword\n"
          ]
        }
      ]
    },
    {
      "cell_type": "markdown",
      "source": [
        "5. Create a list and tuple in Python, and demonstrate how attempting to change an element works differently\n",
        "for each ?"
      ],
      "metadata": {
        "id": "2zBXchu1yA2Y"
      }
    },
    {
      "cell_type": "code",
      "source": [
        "#Lists are created using square brackets [] and contain items of different data types.\n",
        "\n",
        "my_list= [1,2,3,4.5,True]\n",
        "my_list"
      ],
      "metadata": {
        "colab": {
          "base_uri": "https://localhost:8080/"
        },
        "id": "5q-gHrH0y8DS",
        "outputId": "bcc9b2c9-23c7-4a65-f68a-3711e7b3ad12"
      },
      "execution_count": null,
      "outputs": [
        {
          "output_type": "execute_result",
          "data": {
            "text/plain": [
              "[1, 2, 3, 4.5, True]"
            ]
          },
          "metadata": {},
          "execution_count": 22
        }
      ]
    },
    {
      "cell_type": "code",
      "source": [
        "\"\"\"Tuples are created using parentheses () and can also contain items of different data types.\n",
        " For a single-element type, a trailing comma is required to distinguish it from a simple\n",
        "  parenthesized expression\"\"\"\n",
        "\n",
        "my_tuple= (1,\"world\",2.718)\n",
        "my_tuple"
      ],
      "metadata": {
        "colab": {
          "base_uri": "https://localhost:8080/"
        },
        "id": "ZLqcGL2Azy3q",
        "outputId": "aa53a0bd-a8a1-40e0-9fd7-869e1f599ee2"
      },
      "execution_count": null,
      "outputs": [
        {
          "output_type": "execute_result",
          "data": {
            "text/plain": [
              "(1, 'world', 2.718)"
            ]
          },
          "metadata": {},
          "execution_count": 29
        }
      ]
    },
    {
      "cell_type": "code",
      "source": [
        "#List is a type of mutable object or container & it supports item assignment.\n",
        "\n",
        "my_list[0]=\"Master\"\n",
        "my_list"
      ],
      "metadata": {
        "colab": {
          "base_uri": "https://localhost:8080/"
        },
        "id": "N8KBtK3P2XJi",
        "outputId": "794d896a-8b51-4cc2-f65b-7eec40cdb160"
      },
      "execution_count": null,
      "outputs": [
        {
          "output_type": "execute_result",
          "data": {
            "text/plain": [
              "['Master', 2, 3, 4.5, True]"
            ]
          },
          "metadata": {},
          "execution_count": 30
        }
      ]
    },
    {
      "cell_type": "code",
      "source": [
        "#Tuple is a type of immutable objects or container & doesn't support item assignment.\n",
        "\n",
        "# Attempting to change an element in a tuple will result in a TypeError\n",
        "try:\n",
        "  my_tuple[0] = \"Master\"\n",
        "except TypeError as e:\n",
        "  print(f\"Error: {e}\")\n",
        "\n",
        "# You can see the original tuple remains unchanged\n",
        "print(my_tuple)"
      ],
      "metadata": {
        "colab": {
          "base_uri": "https://localhost:8080/"
        },
        "id": "rdcmSXUR29BQ",
        "outputId": "db0638af-30a1-4915-a958-18224b7794d1"
      },
      "execution_count": null,
      "outputs": [
        {
          "output_type": "stream",
          "name": "stdout",
          "text": [
            "Error: 'tuple' object does not support item assignment\n",
            "(1, 'world', 2.718)\n"
          ]
        }
      ]
    },
    {
      "cell_type": "markdown",
      "source": [
        "6. Write a function to demonstrate the behavior of mutable and immutable arguments."
      ],
      "metadata": {
        "id": "QlXaC3-R4VNz"
      }
    },
    {
      "cell_type": "code",
      "source": [
        "# Objects/container whose state or value can be changed after they are created are called as mutable objects/container, also called ass item assignment.\n",
        "#List is a type of mutable objects & supports item assignment\n",
        "\n",
        "my_list= [1,2,3,4.5,True]\n",
        "my_list"
      ],
      "metadata": {
        "colab": {
          "base_uri": "https://localhost:8080/"
        },
        "id": "HF4xgWmo4hhG",
        "outputId": "a523f7ff-bd79-48fc-8efb-91d90b169260"
      },
      "execution_count": null,
      "outputs": [
        {
          "output_type": "execute_result",
          "data": {
            "text/plain": [
              "[1, 2, 3, 4.5, True]"
            ]
          },
          "metadata": {},
          "execution_count": 33
        }
      ]
    },
    {
      "cell_type": "code",
      "source": [
        "my_list[0]=\"Master\"\n",
        "my_list"
      ],
      "metadata": {
        "colab": {
          "base_uri": "https://localhost:8080/"
        },
        "id": "qE3L72mz5ade",
        "outputId": "db131677-7e09-4304-fbc2-c3ecdba3ab51"
      },
      "execution_count": null,
      "outputs": [
        {
          "output_type": "execute_result",
          "data": {
            "text/plain": [
              "['Master', 2, 3, 4.5, True]"
            ]
          },
          "metadata": {},
          "execution_count": 34
        }
      ]
    },
    {
      "cell_type": "code",
      "source": [
        "#Objects/container whose state or value cannot be changed after they are createdare called as immutable objects/container.\n",
        "# String is a type of immutable objects/container and doesn't support item assignment.\n",
        "\n",
        "b=\"pwskills\"\n",
        "b"
      ],
      "metadata": {
        "colab": {
          "base_uri": "https://localhost:8080/",
          "height": 36
        },
        "id": "mjnWJWjY5fKR",
        "outputId": "869cc6ec-ea55-4b5f-b396-5ad0954d555a"
      },
      "execution_count": null,
      "outputs": [
        {
          "output_type": "execute_result",
          "data": {
            "text/plain": [
              "'pwskills'"
            ],
            "application/vnd.google.colaboratory.intrinsic+json": {
              "type": "string"
            }
          },
          "metadata": {},
          "execution_count": 35
        }
      ]
    },
    {
      "cell_type": "code",
      "source": [
        "b[0]"
      ],
      "metadata": {
        "colab": {
          "base_uri": "https://localhost:8080/",
          "height": 36
        },
        "id": "7luYP0kC6MVs",
        "outputId": "25745441-e8e7-4da8-ed80-f97f483902a2"
      },
      "execution_count": null,
      "outputs": [
        {
          "output_type": "execute_result",
          "data": {
            "text/plain": [
              "'p'"
            ],
            "application/vnd.google.colaboratory.intrinsic+json": {
              "type": "string"
            }
          },
          "metadata": {},
          "execution_count": 36
        }
      ]
    },
    {
      "cell_type": "code",
      "source": [
        "b[0]=\"I\""
      ],
      "metadata": {
        "colab": {
          "base_uri": "https://localhost:8080/",
          "height": 141
        },
        "id": "QW5ThfEe6R60",
        "outputId": "0765d193-f8ad-4ef2-fe23-726868935207"
      },
      "execution_count": null,
      "outputs": [
        {
          "output_type": "error",
          "ename": "TypeError",
          "evalue": "'str' object does not support item assignment",
          "traceback": [
            "\u001b[0;31m---------------------------------------------------------------------------\u001b[0m",
            "\u001b[0;31mTypeError\u001b[0m                                 Traceback (most recent call last)",
            "\u001b[0;32m/tmp/ipython-input-37-1593101302.py\u001b[0m in \u001b[0;36m<cell line: 0>\u001b[0;34m()\u001b[0m\n\u001b[0;32m----> 1\u001b[0;31m \u001b[0mb\u001b[0m\u001b[0;34m[\u001b[0m\u001b[0;36m0\u001b[0m\u001b[0;34m]\u001b[0m\u001b[0;34m=\u001b[0m\u001b[0;34m\"I\"\u001b[0m\u001b[0;34m\u001b[0m\u001b[0;34m\u001b[0m\u001b[0m\n\u001b[0m",
            "\u001b[0;31mTypeError\u001b[0m: 'str' object does not support item assignment"
          ]
        }
      ]
    },
    {
      "cell_type": "markdown",
      "source": [
        "7. Write a program that performs basic arithmetic operations on two user-input numbers."
      ],
      "metadata": {
        "id": "USR1Eq-R6eNk"
      }
    },
    {
      "cell_type": "code",
      "source": [
        "try:\n",
        "  num1 = float(input(\"Enter the first number:\"))\n",
        "  num2 = float(input(\"Enter the second number:\"))\n",
        "except ValueError:\n",
        "  print(\"Invalid input. Please enter numeric values.\")\n",
        "  # Removed the return statement as it's not within a function\n",
        "  # return\n",
        "print(\"Addition:\", num1 + num2)\n",
        "print(\"Subtraction:\", num1 - num2)\n",
        "print(\"Multiplication:\", num1 * num2)\n",
        "\n",
        "if num2 != 0:\n",
        "  print(\"Division:\", num1 / num2)\n",
        "else:\n",
        "  print(\"Division by zero is not allowed\")\n",
        "\n",
        "print(\"Floor Division:\", num1 // num2)\n",
        "print(\"Modulus:\", num1 % num2)\n",
        "print(\"Exponentiation:\", num1 ** num2)"
      ],
      "metadata": {
        "colab": {
          "base_uri": "https://localhost:8080/"
        },
        "id": "bHgL4fCs6lKQ",
        "outputId": "5e1376cd-d0f2-42f0-8ccf-fbdf459e2c88"
      },
      "execution_count": null,
      "outputs": [
        {
          "output_type": "stream",
          "name": "stdout",
          "text": [
            "Enter the first number:2\n",
            "Enter the second number:5.5\n",
            "Addition: 7.5\n",
            "Subtraction: -3.5\n",
            "Multiplication: 11.0\n",
            "Division: 0.36363636363636365\n",
            "Floor Division: 0.0\n",
            "Modulus: 2.0\n",
            "Exponentiation: 45.254833995939045\n"
          ]
        }
      ]
    },
    {
      "cell_type": "markdown",
      "source": [
        "8. Write a program to demonstrate the use of logical operators."
      ],
      "metadata": {
        "id": "7bI5dCch-XwQ"
      }
    },
    {
      "cell_type": "code",
      "source": [
        "#---Logical And operator---\n",
        "x=10\n",
        "y=5\n",
        "#Both conditions are True\n",
        "\n",
        "if x>0 and y>0:\n",
        "  print(\"Condition: x>0 and y>0 is True\")\n",
        "else:\n",
        "  print(\"Condition: x>0 and y>0 is false\")"
      ],
      "metadata": {
        "colab": {
          "base_uri": "https://localhost:8080/"
        },
        "id": "gdKt3FpD-c4R",
        "outputId": "dee8fa12-fc6d-40cf-adb4-ac7e3d61046f"
      },
      "execution_count": null,
      "outputs": [
        {
          "output_type": "stream",
          "name": "stdout",
          "text": [
            "Condition: x>0 and y>0 is True\n"
          ]
        }
      ]
    },
    {
      "cell_type": "code",
      "source": [
        "#---Logical OR oprator---\n",
        "is_sunny=False\n",
        "has_umbrella= True\n",
        "\n",
        "#atleast one condition is True\n",
        "if is_sunny or has_umbrella:\n",
        "  print(\"Condition:is_sunny or has_umbrella is true\")\n",
        "else:\n",
        "  print(\"Condition: is_sunny or has_umbrella is false\")\n"
      ],
      "metadata": {
        "colab": {
          "base_uri": "https://localhost:8080/"
        },
        "id": "6vjgFc1Z_ElZ",
        "outputId": "d1be6cae-17b0-4425-d11e-80cb11c3b67a"
      },
      "execution_count": null,
      "outputs": [
        {
          "output_type": "stream",
          "name": "stdout",
          "text": [
            "Condition:is_sunny or has_umbrella is true\n"
          ]
        }
      ]
    },
    {
      "cell_type": "code",
      "source": [
        "#---Logical NOT operator---\n",
        "is_active=False\n",
        "\n",
        "#Negating a False value\n",
        "if not is_active:\n",
        "  print(\"Condition: is_active is False\")\n",
        "else:\n",
        "  print(\"Condition: is_active is True\")"
      ],
      "metadata": {
        "colab": {
          "base_uri": "https://localhost:8080/"
        },
        "id": "HWY532X7DMxl",
        "outputId": "00ab07cc-619e-4cba-d61b-7f5c9cfc604d"
      },
      "execution_count": null,
      "outputs": [
        {
          "output_type": "stream",
          "name": "stdout",
          "text": [
            "Condition: is_active is False\n"
          ]
        }
      ]
    },
    {
      "cell_type": "markdown",
      "source": [
        "9. Write a Python program to convert user input from string to integer, float, and boolean types ?"
      ],
      "metadata": {
        "id": "7O4fslKBFJZw"
      }
    },
    {
      "cell_type": "code",
      "source": [
        "#string to integer\n",
        "\n",
        "a=\"2\"\n",
        "b=3\n",
        "int(a)+b"
      ],
      "metadata": {
        "colab": {
          "base_uri": "https://localhost:8080/"
        },
        "id": "M4Zu5TWJFV9F",
        "outputId": "e6070c24-4fd8-4df6-eed4-c178cfbe69b9"
      },
      "execution_count": null,
      "outputs": [
        {
          "output_type": "execute_result",
          "data": {
            "text/plain": [
              "5"
            ]
          },
          "metadata": {},
          "execution_count": 7
        }
      ]
    },
    {
      "cell_type": "code",
      "source": [
        "#float to integer\n",
        "\n",
        "a=3.4\n",
        "int(a)"
      ],
      "metadata": {
        "colab": {
          "base_uri": "https://localhost:8080/"
        },
        "id": "UU7PMvEjF4a_",
        "outputId": "7369842a-ef1c-45e2-f73d-7a37b4991dff"
      },
      "execution_count": null,
      "outputs": [
        {
          "output_type": "execute_result",
          "data": {
            "text/plain": [
              "3"
            ]
          },
          "metadata": {},
          "execution_count": 8
        }
      ]
    },
    {
      "cell_type": "code",
      "source": [
        "#integer to float\n",
        "\n",
        "a=3\n",
        "b=float(a)\n",
        "b"
      ],
      "metadata": {
        "colab": {
          "base_uri": "https://localhost:8080/"
        },
        "id": "5Jfb-FA5GDi0",
        "outputId": "d74c1a6c-7454-423e-d34e-0331d3363a4f"
      },
      "execution_count": null,
      "outputs": [
        {
          "output_type": "execute_result",
          "data": {
            "text/plain": [
              "3.0"
            ]
          },
          "metadata": {},
          "execution_count": 9
        }
      ]
    },
    {
      "cell_type": "code",
      "source": [
        "#string to float\n",
        "a=\"2.3\"\n",
        "b=float(a)\n",
        "b"
      ],
      "metadata": {
        "colab": {
          "base_uri": "https://localhost:8080/"
        },
        "id": "fNLyrQF0GVfC",
        "outputId": "55d7a1c6-784a-49a5-abe2-7384f2d084ee"
      },
      "execution_count": null,
      "outputs": [
        {
          "output_type": "execute_result",
          "data": {
            "text/plain": [
              "2.3"
            ]
          },
          "metadata": {},
          "execution_count": 10
        }
      ]
    },
    {
      "cell_type": "markdown",
      "source": [
        "10. Write code to demonstrate type casting with list elements.\n",
        "\n",
        "\n"
      ],
      "metadata": {
        "id": "0cRMsM5mGnAv"
      }
    },
    {
      "cell_type": "code",
      "source": [
        "x=[\"10\", 20, \"30.5\", 40.0, \"50\"]\n",
        "\n",
        "#Typecasting elements to integers\n",
        "\n",
        "int_list=[int(float(element)) if isinstance(element, str) and '.' in element else int(element) for element in x]\n",
        "print(int_list)"
      ],
      "metadata": {
        "colab": {
          "base_uri": "https://localhost:8080/"
        },
        "id": "jnAk5QEeGuVW",
        "outputId": "a91c18bf-375a-4a7d-b74c-0350f6d10111"
      },
      "execution_count": null,
      "outputs": [
        {
          "output_type": "stream",
          "name": "stdout",
          "text": [
            "[10, 20, 30, 40, 50]\n"
          ]
        }
      ]
    },
    {
      "cell_type": "code",
      "source": [
        "#Typecasting elements to floats\n",
        "\n",
        "float_list=[float(element) for element in x]\n",
        "print(float_list)"
      ],
      "metadata": {
        "colab": {
          "base_uri": "https://localhost:8080/"
        },
        "id": "zw843a9iJgob",
        "outputId": "db15e4be-70c9-43e6-f385-331034a58adb"
      },
      "execution_count": null,
      "outputs": [
        {
          "output_type": "stream",
          "name": "stdout",
          "text": [
            "[10.0, 20.0, 30.5, 40.0, 50.0]\n"
          ]
        }
      ]
    },
    {
      "cell_type": "code",
      "source": [
        "#Typecasting elements to strings\n",
        "\n",
        "str_list=[str(element) for element in x]\n",
        "print(str_list)"
      ],
      "metadata": {
        "colab": {
          "base_uri": "https://localhost:8080/"
        },
        "id": "ilauFA67J4Sw",
        "outputId": "41a6c622-aa05-4795-8ee8-9fa93ee920ac"
      },
      "execution_count": null,
      "outputs": [
        {
          "output_type": "stream",
          "name": "stdout",
          "text": [
            "['10', '20', '30.5', '40.0', '50']\n"
          ]
        }
      ]
    },
    {
      "cell_type": "markdown",
      "source": [
        "11. Write a program that checks if a number is positive, negative, or zero."
      ],
      "metadata": {
        "id": "B891QgejKQ9x"
      }
    },
    {
      "cell_type": "code",
      "source": [
        "def check_number_sign(number):\n",
        "  if number>0:\n",
        "    print(\"The number is positive\")\n",
        "  elif number<0:\n",
        "    print(\"The number is negative\")\n",
        "  else:\n",
        "    print(\"The number is zero\")\n",
        "\n",
        "# Example usage:\n",
        "check_number_sign(-2)"
      ],
      "metadata": {
        "colab": {
          "base_uri": "https://localhost:8080/"
        },
        "id": "p3lDef74KW94",
        "outputId": "c83c15b5-e54b-406f-b7be-b3995c29fbc3"
      },
      "execution_count": null,
      "outputs": [
        {
          "output_type": "stream",
          "name": "stdout",
          "text": [
            "The number is negative\n"
          ]
        }
      ]
    },
    {
      "cell_type": "markdown",
      "source": [
        "12. Write a for loop to print numbers from 1 to 10."
      ],
      "metadata": {
        "id": "6FNjXKJbLWpb"
      }
    },
    {
      "cell_type": "code",
      "source": [
        "for i in range(1,11):\n",
        "  print(i)"
      ],
      "metadata": {
        "colab": {
          "base_uri": "https://localhost:8080/"
        },
        "id": "OoPQG84CLiIE",
        "outputId": "72ae7d1b-4c40-4afc-b4a9-e3c0f0580d87"
      },
      "execution_count": null,
      "outputs": [
        {
          "output_type": "stream",
          "name": "stdout",
          "text": [
            "1\n",
            "2\n",
            "3\n",
            "4\n",
            "5\n",
            "6\n",
            "7\n",
            "8\n",
            "9\n",
            "10\n"
          ]
        }
      ]
    },
    {
      "cell_type": "markdown",
      "source": [
        "13. Write a Python program to find the sum of all even numbers between 1 and 50."
      ],
      "metadata": {
        "id": "mv8Edkq6L2FT"
      }
    },
    {
      "cell_type": "code",
      "source": [
        "def sum_of_even_numbers(start, end):\n",
        "  total_sum=0\n",
        "  for number in range (start, end+1):\n",
        "    if number % 2 == 0:\n",
        "      total_sum += number\n",
        "  return total_sum\n",
        "\n",
        "# Example usage:\n",
        "start_range = 1\n",
        "end_range = 50\n",
        "result = sum_of_even_numbers(start_range, end_range)\n",
        "print(f\"The sum of even numbers between {start_range} and {end_range} is: {result}\")"
      ],
      "metadata": {
        "colab": {
          "base_uri": "https://localhost:8080/"
        },
        "id": "L28pUN9zL5uB",
        "outputId": "d8727a49-62e7-41aa-c39c-4bec1c2f8c28"
      },
      "execution_count": null,
      "outputs": [
        {
          "output_type": "stream",
          "name": "stdout",
          "text": [
            "The sum of even numbers between 1 and 50 is: 650\n"
          ]
        }
      ]
    },
    {
      "cell_type": "markdown",
      "source": [
        "14. Write a program to reverse a string using a while loop."
      ],
      "metadata": {
        "id": "sV5pz062NOJG"
      }
    },
    {
      "cell_type": "code",
      "source": [
        "def reverse_string_while(input_string):\n",
        "  reversed_string = \"\"\n",
        "  index = len(input_string) - 1\n",
        "\n",
        "  while index >= 0:\n",
        "    reversed_string += input_string[index]\n",
        "    index -= 1\n",
        "\n",
        "  return reversed_string\n",
        "\n",
        "# Example usage:\n",
        "print(reverse_string_while(\"LOVEKESH\"))"
      ],
      "metadata": {
        "colab": {
          "base_uri": "https://localhost:8080/"
        },
        "id": "hvpn3S3MNRR6",
        "outputId": "d94dd79b-8c2d-4bd8-ce93-81b771efad73"
      },
      "execution_count": null,
      "outputs": [
        {
          "output_type": "stream",
          "name": "stdout",
          "text": [
            "HSEKEVOL\n"
          ]
        }
      ]
    },
    {
      "cell_type": "markdown",
      "source": [
        "15. Write a Python program to calculate the factorial of a number provided by the user using a while loop."
      ],
      "metadata": {
        "id": "0f3txheCO9bN"
      }
    },
    {
      "cell_type": "code",
      "source": [
        "def factorial_while(n):\n",
        "  if n < 0:\n",
        "    return \"Factorial is not defined for negative numbers.\"\n",
        "  elif n == 0 or n == 1:\n",
        "    return 1\n",
        "  else:\n",
        "    factorial = 1\n",
        "    while n > 1:\n",
        "      factorial *= n\n",
        "      n -= 1\n",
        "    return factorial\n",
        "\n",
        "# Example usage:\n",
        "number = 5\n",
        "result = factorial_while(number)\n",
        "print(f\"The factorial of {number} is: {result}\")\n"
      ],
      "metadata": {
        "colab": {
          "base_uri": "https://localhost:8080/"
        },
        "id": "kM2yWySiO_Pk",
        "outputId": "ca77c4cf-9189-42be-a938-ce7552442717"
      },
      "execution_count": null,
      "outputs": [
        {
          "output_type": "stream",
          "name": "stdout",
          "text": [
            "The factorial of 5 is: 120\n"
          ]
        }
      ]
    }
  ]
}